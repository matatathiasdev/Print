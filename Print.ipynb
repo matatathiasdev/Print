{
 "cells": [
  {
   "cell_type": "code",
   "execution_count": 38,
   "metadata": {},
   "outputs": [],
   "source": [
    "from pathlib import Path\n",
    "\n",
    "import subprocess\n",
    "import importlib\n",
    "import inspect\n",
    "import time \n",
    "import os"
   ]
  },
  {
   "cell_type": "code",
   "execution_count": 39,
   "metadata": {},
   "outputs": [],
   "source": [
    "pacote = \"pyautogui\" \n",
    "\n",
    "# ACHAR O CAMINHO ABSOLUTO DO ARQUIVO \n",
    "caminho_absoluto = inspect.getframeinfo(inspect.currentframe()).filename\n",
    "# ACHAR A PASTA DO ARQUIVO\n",
    "pasta = os.path.dirname(caminho_absoluto)\n",
    "\n",
    "# AJUSTAR NOME DO ARQUIVO PARA LEITIRA\n",
    "newpath = str(pasta) + '/print.txt'\n",
    "newpath = newpath.replace(\"\\\\\",\"/\")\n",
    "\n",
    "# FUNÇÃO PARA LER O CSV\n",
    "def LerTxt():\n",
    "    with open(newpath, \"r\") as arquivo:\n",
    "            conteudo = arquivo.read()\n",
    "            arquivo.close()\n",
    "            return conteudo\n",
    "\n",
    "# FUNÇÃO DE PRINT\n",
    "def Print():\n",
    "    if importlib.util.find_spec(\"pyautogui\") is not None:\n",
    "        from pyautogui import press\n",
    "        press(\"ctrl\")\n",
    "        time.sleep(120)\n",
    "    else:\n",
    "        subprocess.check_call([\"pip\", \"install\", pacote])\n",
    "        from pyautogui import press\n",
    "        press(\"ctrl\")\n",
    "        time.sleep(120)\n"
   ]
  },
  {
   "cell_type": "code",
   "execution_count": 40,
   "metadata": {},
   "outputs": [
    {
     "ename": "FileNotFoundError",
     "evalue": "[Errno 2] No such file or directory: 'C:/Users/matheus.rodrigues/AppData/Local/Temp/ipykernel_10496/print.txt'",
     "output_type": "error",
     "traceback": [
      "\u001b[1;31m---------------------------------------------------------------------------\u001b[0m",
      "\u001b[1;31mFileNotFoundError\u001b[0m                         Traceback (most recent call last)",
      "Cell \u001b[1;32mIn[40], line 2\u001b[0m\n\u001b[0;32m      1\u001b[0m \u001b[39m# VALOR INICIAL\u001b[39;00m\n\u001b[1;32m----> 2\u001b[0m valor \u001b[39m=\u001b[39m LerTxt()\n\u001b[0;32m      4\u001b[0m \u001b[39m# LOOP\u001b[39;00m\n\u001b[0;32m      5\u001b[0m \u001b[39mwhile\u001b[39;00m valor \u001b[39m==\u001b[39m \u001b[39m'\u001b[39m\u001b[39m1\u001b[39m\u001b[39m'\u001b[39m:\n",
      "Cell \u001b[1;32mIn[39], line 14\u001b[0m, in \u001b[0;36mLerTxt\u001b[1;34m()\u001b[0m\n\u001b[0;32m     13\u001b[0m \u001b[39mdef\u001b[39;00m \u001b[39mLerTxt\u001b[39m():\n\u001b[1;32m---> 14\u001b[0m     \u001b[39mwith\u001b[39;00m \u001b[39mopen\u001b[39;49m(newpath, \u001b[39m\"\u001b[39;49m\u001b[39mr\u001b[39;49m\u001b[39m\"\u001b[39;49m) \u001b[39mas\u001b[39;00m arquivo:\n\u001b[0;32m     15\u001b[0m             conteudo \u001b[39m=\u001b[39m arquivo\u001b[39m.\u001b[39mread()\n\u001b[0;32m     16\u001b[0m             arquivo\u001b[39m.\u001b[39mclose()\n",
      "File \u001b[1;32m~\\AppData\\Roaming\\Python\\Python311\\site-packages\\IPython\\core\\interactiveshell.py:284\u001b[0m, in \u001b[0;36m_modified_open\u001b[1;34m(file, *args, **kwargs)\u001b[0m\n\u001b[0;32m    277\u001b[0m \u001b[39mif\u001b[39;00m file \u001b[39min\u001b[39;00m {\u001b[39m0\u001b[39m, \u001b[39m1\u001b[39m, \u001b[39m2\u001b[39m}:\n\u001b[0;32m    278\u001b[0m     \u001b[39mraise\u001b[39;00m \u001b[39mValueError\u001b[39;00m(\n\u001b[0;32m    279\u001b[0m         \u001b[39mf\u001b[39m\u001b[39m\"\u001b[39m\u001b[39mIPython won\u001b[39m\u001b[39m'\u001b[39m\u001b[39mt let you open fd=\u001b[39m\u001b[39m{\u001b[39;00mfile\u001b[39m}\u001b[39;00m\u001b[39m by default \u001b[39m\u001b[39m\"\u001b[39m\n\u001b[0;32m    280\u001b[0m         \u001b[39m\"\u001b[39m\u001b[39mas it is likely to crash IPython. If you know what you are doing, \u001b[39m\u001b[39m\"\u001b[39m\n\u001b[0;32m    281\u001b[0m         \u001b[39m\"\u001b[39m\u001b[39myou can use builtins\u001b[39m\u001b[39m'\u001b[39m\u001b[39m open.\u001b[39m\u001b[39m\"\u001b[39m\n\u001b[0;32m    282\u001b[0m     )\n\u001b[1;32m--> 284\u001b[0m \u001b[39mreturn\u001b[39;00m io_open(file, \u001b[39m*\u001b[39;49margs, \u001b[39m*\u001b[39;49m\u001b[39m*\u001b[39;49mkwargs)\n",
      "\u001b[1;31mFileNotFoundError\u001b[0m: [Errno 2] No such file or directory: 'C:/Users/matheus.rodrigues/AppData/Local/Temp/ipykernel_10496/print.txt'"
     ]
    }
   ],
   "source": [
    "# VALOR INICIAL\n",
    "valor = LerTxt()\n",
    "\n",
    "# LOOP\n",
    "while valor == '1':\n",
    "    Print()\n",
    "    valor = LerTxt()"
   ]
  },
  {
   "cell_type": "code",
   "execution_count": 12,
   "metadata": {},
   "outputs": [
    {
     "data": {
      "text/plain": [
       "'C:\\\\Users\\\\matheus.rodrigues\\\\AppData\\\\Local\\\\Temp\\\\ipykernel_10496'"
      ]
     },
     "execution_count": 12,
     "metadata": {},
     "output_type": "execute_result"
    }
   ],
   "source": [
    "pasta"
   ]
  },
  {
   "cell_type": "code",
   "execution_count": 13,
   "metadata": {},
   "outputs": [
    {
     "name": "stdout",
     "output_type": "stream",
     "text": [
      "c:\\Users\\matheus.rodrigues\\Desktop\\Print\n"
     ]
    }
   ],
   "source": [
    "from pathlib import Path\n",
    "\n",
    "mypath = Path().absolute()\n",
    "print(mypath)"
   ]
  },
  {
   "cell_type": "code",
   "execution_count": 14,
   "metadata": {},
   "outputs": [
    {
     "data": {
      "text/plain": [
       "'c:\\\\Users\\\\matheus.rodrigues\\\\Desktop'"
      ]
     },
     "execution_count": 14,
     "metadata": {},
     "output_type": "execute_result"
    }
   ],
   "source": [
    "os.path.dirname(mypath)"
   ]
  },
  {
   "cell_type": "code",
   "execution_count": 16,
   "metadata": {},
   "outputs": [
    {
     "data": {
      "text/plain": [
       "WindowsPath('c:/Users/matheus.rodrigues/Desktop/Print')"
      ]
     },
     "execution_count": 16,
     "metadata": {},
     "output_type": "execute_result"
    }
   ],
   "source": [
    "import pathlib\n",
    "\n",
    "fname = pathlib.Path(mypath)\n",
    "fname"
   ]
  },
  {
   "cell_type": "code",
   "execution_count": 22,
   "metadata": {},
   "outputs": [
    {
     "name": "stdout",
     "output_type": "stream",
     "text": [
      "Caminho do arquivo ativo: c:\\Users\\matheus.rodrigues\\Desktop\\Print\n"
     ]
    }
   ],
   "source": [
    "import os\n",
    "\n",
    "caminho_do_arquivo_ativo = os.path.abspath(mypath)\n",
    "print(\"Caminho do arquivo ativo:\", caminho_do_arquivo_ativo)\n"
   ]
  },
  {
   "cell_type": "code",
   "execution_count": 24,
   "metadata": {},
   "outputs": [
    {
     "name": "stdout",
     "output_type": "stream",
     "text": [
      "c:\\Users\\matheus.rodrigues\\Desktop\\Print\n"
     ]
    }
   ],
   "source": [
    "from pathlib import Path\n",
    "\n",
    "mypath = Path().absolute()\n",
    "print(mypath)"
   ]
  },
  {
   "cell_type": "code",
   "execution_count": null,
   "metadata": {},
   "outputs": [],
   "source": []
  }
 ],
 "metadata": {
  "kernelspec": {
   "display_name": "base",
   "language": "python",
   "name": "python3"
  },
  "language_info": {
   "codemirror_mode": {
    "name": "ipython",
    "version": 3
   },
   "file_extension": ".py",
   "mimetype": "text/x-python",
   "name": "python",
   "nbconvert_exporter": "python",
   "pygments_lexer": "ipython3",
   "version": "3.11.4"
  },
  "orig_nbformat": 4
 },
 "nbformat": 4,
 "nbformat_minor": 2
}
