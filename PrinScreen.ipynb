{
 "cells": [
  {
   "cell_type": "code",
   "execution_count": 11,
   "metadata": {},
   "outputs": [
    {
     "data": {
      "text/plain": [
       "0"
      ]
     },
     "execution_count": 11,
     "metadata": {},
     "output_type": "execute_result"
    }
   ],
   "source": [
    "from pathlib import Path\n",
    "\n",
    "import subprocess\n",
    "import importlib\n",
    "import inspect\n",
    "import time \n",
    "import os\n",
    "\n",
    "# ATUALIZAR O PYTHON\n",
    "subprocess.check_call([\"python\", \"-m\", \"pip\", \"install\", \"--upgrade\", \"pip\"])\n"
   ]
  },
  {
   "cell_type": "code",
   "execution_count": 12,
   "metadata": {},
   "outputs": [],
   "source": [
    "# ATUALIZAR UMA BIBLIOTECA\n",
    "biblioteca = 'importlib'"
   ]
  },
  {
   "cell_type": "code",
   "execution_count": 13,
   "metadata": {},
   "outputs": [],
   "source": [
    "try:\n",
    "    subprocess.check_call([\"pip\", \"install\", \"--upgrade\", biblioteca])\n",
    "except subprocess.CalledProcessError as e:\n",
    "    print(f\"Failed to upgrade {biblioteca}: {e}\")\n",
    "\n",
    "pacote = \"pyautogui\" "
   ]
  },
  {
   "cell_type": "code",
   "execution_count": 14,
   "metadata": {},
   "outputs": [],
   "source": [
    "# ACHAR O CAMINHO ABSOLUTO DA PASTA\n",
    "pasta = Path().absolute()"
   ]
  },
  {
   "cell_type": "code",
   "execution_count": 15,
   "metadata": {},
   "outputs": [],
   "source": [
    "# AJUSTAR NOME DO ARQUIVO PARA LEITIRA\n",
    "newpath = str(pasta) + '/print.txt'\n",
    "newpath = newpath.replace(\"\\\\\",\"/\")"
   ]
  },
  {
   "cell_type": "code",
   "execution_count": 16,
   "metadata": {},
   "outputs": [],
   "source": [
    "# FUNÇÃO PARA LER O CSV\n",
    "def LerTxt():\n",
    "    with open(newpath, \"r\") as arquivo:\n",
    "            conteudo = arquivo.read()\n",
    "            arquivo.close()\n",
    "            return conteudo"
   ]
  },
  {
   "cell_type": "code",
   "execution_count": 17,
   "metadata": {},
   "outputs": [],
   "source": [
    "# FUNÇÃO DE PRINT\n",
    "def Print():\n",
    "    if importlib.util.find_spec(\"pyautogui\") is not None:\n",
    "        from pyautogui import press\n",
    "        press(\"printscreen\")\n",
    "        time.sleep(120)\n",
    "    else:\n",
    "        subprocess.check_call([\"pip\", \"install\", pacote])\n",
    "        from pyautogui import press\n",
    "        press(\"printscreen\")\n",
    "        time.sleep(120)"
   ]
  },
  {
   "cell_type": "code",
   "execution_count": 21,
   "metadata": {},
   "outputs": [],
   "source": [
    "# VALOR INICIAL\n",
    "valor = LerTxt()"
   ]
  },
  {
   "cell_type": "code",
   "execution_count": 22,
   "metadata": {},
   "outputs": [],
   "source": [
    "# LOOP\n",
    "print('Rodando o Print')\n",
    "while valor == '1':\n",
    "    Print()\n",
    "    valor = LerTxt()\n",
    "print('Print finalizado')\n",
    "time.sleep(10)\n"
   ]
  },
  {
   "cell_type": "code",
   "execution_count": null,
   "metadata": {},
   "outputs": [],
   "source": []
  }
 ],
 "metadata": {
  "kernelspec": {
   "display_name": "Python 3",
   "language": "python",
   "name": "python3"
  },
  "language_info": {
   "codemirror_mode": {
    "name": "ipython",
    "version": 3
   },
   "file_extension": ".py",
   "mimetype": "text/x-python",
   "name": "python",
   "nbconvert_exporter": "python",
   "pygments_lexer": "ipython3",
   "version": "3.11.4"
  },
  "orig_nbformat": 4
 },
 "nbformat": 4,
 "nbformat_minor": 2
}
